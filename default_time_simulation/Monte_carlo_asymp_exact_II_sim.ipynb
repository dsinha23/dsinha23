{
  "cells": [
    {
      "cell_type": "markdown",
      "metadata": {
        "id": "view-in-github",
        "colab_type": "text"
      },
      "source": [
        "<a href=\"https://colab.research.google.com/github/dsinha23/dsinha23/blob/main/default_time_simulation/Monte_carlo_asymp_exact_II_sim.ipynb\" target=\"_parent\"><img src=\"https://colab.research.google.com/assets/colab-badge.svg\" alt=\"Open In Colab\"/></a>"
      ]
    },
    {
      "cell_type": "code",
      "execution_count": 1,
      "metadata": {
        "id": "7zTQi7OH0QZF"
      },
      "outputs": [],
      "source": [
        "import numpy as np\n",
        "import matplotlib.pyplot as plt\n",
        "import scipy\n",
        "from scipy.stats import nct, ncx2\n",
        "from scipy.special import hyp1f1\n",
        "import sys"
      ]
    },
    {
      "cell_type": "code",
      "execution_count": 2,
      "metadata": {
        "id": "EaAtZXfheuca"
      },
      "outputs": [],
      "source": [
        "def lambda_max_generator(eps, y, theta, sigma, kappa):\n",
        "\n",
        "  # Define lambda function for root finding\n",
        "  G1 = lambda H : hyp1f1(H/kappa, (2 * kappa * theta)/(sigma**2), (2 * kappa * y)/(sigma**2))/hyp1f1(H/kappa, \\\n",
        "    (2 * kappa * theta)/(sigma**2), (2*kappa*H)/(sigma**2)) - eps\n",
        "  F1 = lambda H : (hyp1f1(H/kappa, (2 * kappa * theta)/(sigma**2), (2 * kappa * y)/(sigma**2))/hyp1f1(H/kappa, \\\n",
        "    (2 * kappa * theta)/(sigma**2), (2*kappa*H)/(sigma**2)) - eps)**2\n",
        "  # Root finding\n",
        "  Hstar = scipy.optimize.minimize(F1, x0 = y,method='L-BFGS-B', bounds=[(y, None)]).x[0]\n",
        "  while G1(Hstar) > 0:\n",
        "    Hstar = Hstar + 1e-4\n",
        "  return Hstar"
      ]
    },
    {
      "cell_type": "code",
      "execution_count": 15,
      "metadata": {
        "id": "Bjmp5ySebinX"
      },
      "outputs": [],
      "source": [
        "def simulate_cir_jump(x0, kappa, theta, sigma, T, delta, eps, lambda_benchmark, low=0.24, high=0.96):\n",
        "\n",
        "    events = []\n",
        "    marks = []\n",
        "    t = 0.0\n",
        "    lambda_t = x0\n",
        "\n",
        "    time_grid = [t]\n",
        "    lambda_path = [lambda_t]\n",
        "    gamma = theta\n",
        "\n",
        "    count = 0\n",
        "\n",
        "    while t < T:\n",
        "        # Compute CIR parameters for exact simulation over time tau\n",
        "\n",
        "        if lambda_t <= gamma:\n",
        "          lambda_max = lambda_benchmark\n",
        "        else:\n",
        "          lambda_max = lambda_t + lambda_benchmark - gamma\n",
        "        tau = np.random.exponential(1 / lambda_max)\n",
        "        t_proposed = t + tau\n",
        "        if t_proposed > T:\n",
        "            break\n",
        "\n",
        "        # Exact CIR transition over tau\n",
        "\n",
        "        c = sigma**2 * (1 - np.exp(-kappa * tau)) / (4 * kappa)\n",
        "        df = 4 * kappa * theta / sigma**2\n",
        "        nc = 4 * kappa * lambda_t * np.exp(-kappa * tau) / (sigma**2 * (1 - np.exp(-kappa * tau)))\n",
        "\n",
        "\n",
        "    # Sample from non-central chi-squared\n",
        "        lambda_proposed = c * ncx2.rvs(df, nc)\n",
        "\n",
        "        # Accept or reject via thinning\n",
        "        u = np.random.uniform(0,1)\n",
        "        if u <= np.minimum(lambda_proposed / lambda_max,1):\n",
        "            # Accept: register event and mark\n",
        "            t = t_proposed\n",
        "            events.append(t)\n",
        "            mark = np.random.choice([low,high])\n",
        "            marks.append(mark)\n",
        "\n",
        "            # Intensity jumps up\n",
        "            lambda_t = lambda_proposed + delta * mark\n",
        "        else:\n",
        "            # Reject: update time\n",
        "            t = t_proposed\n",
        "            lambda_t = lambda_proposed\n",
        "\n",
        "        time_grid.append(t)\n",
        "        lambda_path.append(lambda_t)\n",
        "\n",
        "    return np.array(events), np.array(marks), np.array(time_grid), np.array(lambda_path)"
      ]
    },
    {
      "cell_type": "code",
      "execution_count": 14,
      "metadata": {
        "colab": {
          "base_uri": "https://localhost:8080/"
        },
        "id": "feEZJxu26KuY",
        "outputId": "a3092836-79b5-427a-8fe6-a8af7477e18f"
      },
      "outputs": [
        {
          "output_type": "stream",
          "name": "stdout",
          "text": [
            "Trial No.: 30000\n",
            "Bias: -0.014088000000000989\n",
            "Standard deviation: 0.04857138452115471\n",
            "Expected loss: 12.156711999999999\n",
            "RMSE: 0.050573225508186596\n"
          ]
        }
      ],
      "source": [
        "num_trials = 30000\n",
        "TrueValue = 12.1708\n",
        "\n",
        "x0 = 0.7 # initial intensity\n",
        "kappa = 2.62\n",
        "theta = 1.61\n",
        "sigma = 0.62\n",
        "T = 5.0\n",
        "delta = 2.99\n",
        "L_T = np.zeros(num_trials)\n",
        "default_time  = np.array([])\n",
        "eps = 1/num_trials\n",
        "lambda_benchmark = lambda_max_generator(eps, theta, theta, sigma, kappa)\n",
        "for i in range(num_trials):\n",
        "  sys.stdout.write(f\"\\rTrial No.: {i+1}\")\n",
        "  sys.stdout.flush()\n",
        "  events, marks, time, lambda_path = simulate_cir_jump(x0, kappa, theta, sigma, T, delta, eps,lambda_benchmark)\n",
        "  L_T[i] = np.sum(marks)\n",
        "  default_time = np.append(default_time, time)\n",
        "bias = np.mean(L_T) - TrueValue\n",
        "std = np.std(L_T)/np.sqrt(num_trials)\n",
        "print('\\nBias:', bias)\n",
        "print('Standard deviation:', std)\n",
        "print('Expected loss:', np.mean(L_T))\n",
        "print('RMSE:',np.sqrt(bias**2 + std**2))"
      ]
    },
    {
      "cell_type": "code",
      "source": [],
      "metadata": {
        "id": "SIJgXxL-rYM3"
      },
      "execution_count": null,
      "outputs": []
    }
  ],
  "metadata": {
    "colab": {
      "provenance": [],
      "authorship_tag": "ABX9TyNaiv2zElxfvD7tS68Cp1Jl",
      "include_colab_link": true
    },
    "kernelspec": {
      "display_name": "Python 3",
      "name": "python3"
    },
    "language_info": {
      "name": "python"
    }
  },
  "nbformat": 4,
  "nbformat_minor": 0
}